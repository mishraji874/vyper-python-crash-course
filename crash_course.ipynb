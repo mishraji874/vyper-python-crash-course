{
  "nbformat": 4,
  "nbformat_minor": 0,
  "metadata": {
    "colab": {
      "provenance": []
    },
    "kernelspec": {
      "name": "python3",
      "display_name": "Python 3"
    },
    "language_info": {
      "name": "python"
    }
  },
  "cells": [
    {
      "cell_type": "code",
      "source": [
        "# Hi! I'm a comment\n",
        "# Be sure to try to use the AI tools in collab to help you learn!\n",
        "\n",
        "# Execute this line by hitting the play button, or, running \"CMD + ENTER\" (MacOS) or \"CTRL + ENTER\" (Linux/Windows)\n",
        "print(\"hi\")\n",
        "\n",
        "# You should see \"hi\" printed below here"
      ],
      "metadata": {
        "id": "R2N1omWTNvF3",
        "colab": {
          "base_uri": "https://localhost:8080/"
        },
        "outputId": "7024b89c-d5e3-4ed4-94fc-ff61e2f9c98e"
      },
      "execution_count": null,
      "outputs": [
        {
          "output_type": "stream",
          "name": "stdout",
          "text": [
            "hi\n"
          ]
        }
      ]
    },
    {
      "cell_type": "code",
      "source": [
        "# You can assign variables in python, like so:\n",
        "my_variable = 7\n",
        "\n",
        "# You can assign almost anything to a variable, and python comes with many types:\n",
        "my_number = 10\n",
        "my_boolean = True\n",
        "my_string = \"hello!\"\n",
        "\n",
        "# Additionally, you can use something called \"type hints\"\n",
        "my_typed_number: int = 9\n",
        "\n",
        "print(my_number)\n",
        "print(my_boolean)\n",
        "print(my_string)\n",
        "print(my_typed_number)\n",
        "\n",
        "# You can also update variables, like so:\n",
        "my_number = 77\n",
        "print(my_number)"
      ],
      "metadata": {
        "colab": {
          "base_uri": "https://localhost:8080/"
        },
        "id": "rwLlbeRq2b_f",
        "outputId": "99550cc6-211e-40e4-f8d5-4ebc6f045d58"
      },
      "execution_count": null,
      "outputs": [
        {
          "output_type": "stream",
          "name": "stdout",
          "text": [
            "10\n",
            "True\n",
            "hello!\n",
            "9\n",
            "77\n"
          ]
        }
      ]
    },
    {
      "cell_type": "code",
      "source": [
        "# You can have a variable hold a list of elements\n",
        "# In the list below, 7, \"cat\", and True are all elements in the list\n",
        "my_list: list = [7, \"cat\", True]\n",
        "\n",
        "print(my_list)\n",
        "\n",
        "# You can then update different elements in a list\n",
        "# In python (and vyper) elements are \"0 indexed\" meaning the first element is at index 0, the second at index 1, and so on\n",
        "\n",
        "# my_list = [7, \"cat\", True]\n",
        "# indexes =  0    1     2\n",
        "my_list[1] = \"dog\"\n",
        "\n",
        "print(my_list)\n",
        "\n",
        "# [7, 'cat', True]\n",
        "# [7, 'dog', True]"
      ],
      "metadata": {
        "colab": {
          "base_uri": "https://localhost:8080/"
        },
        "id": "-mcD4XPt2gF-",
        "outputId": "37e23662-4ac9-478f-ad53-81070716cb8b"
      },
      "execution_count": null,
      "outputs": [
        {
          "output_type": "stream",
          "name": "stdout",
          "text": [
            "[7, 'cat', True]\n",
            "[7, 'dog', True]\n"
          ]
        }
      ]
    },
    {
      "cell_type": "code",
      "source": [
        "# You can get input from users\n",
        "name = input(\"What is your name?\")\n",
        "\n",
        "print(\"My name is \" + name)\n",
        "print(f\"{name} is my name\")"
      ],
      "metadata": {
        "colab": {
          "base_uri": "https://localhost:8080/"
        },
        "id": "AM8oRm_73Y9-",
        "outputId": "dfa39bec-1efe-41aa-ba49-59fef7b0b36c"
      },
      "execution_count": null,
      "outputs": [
        {
          "output_type": "stream",
          "name": "stdout",
          "text": [
            "What is your name?patrick\n",
            "My name is patrick\n",
            "patrick is my name\n"
          ]
        }
      ]
    },
    {
      "cell_type": "code",
      "source": [
        "# You can convert types from one to another using \"casting\"\n",
        "# Let's take this number\n",
        "year = \"2025\"\n",
        "# What if we tried to add 25 to this number?\n",
        "\n",
        "# uncomment the below line, and you'll get an error!\n",
        "# added_year = year + 25\n",
        "\n",
        "# So can can \"type cast\" our string to an integer like this:\n",
        "year_int = int(year)\n",
        "\n",
        "# And then add them together\n",
        "added_year = year_int + 25\n",
        "\n",
        "print(added_year)\n",
        "\n",
        "# You can also cast a number as a \"string\", like so:\n",
        "year_string = str(year_int)\n",
        "\n",
        "print(year_string + \" is 25 years after 2025\")"
      ],
      "metadata": {
        "colab": {
          "base_uri": "https://localhost:8080/"
        },
        "id": "qUu8-lNj4Noo",
        "outputId": "3af26892-3373-48cb-c446-15c36da0ce77"
      },
      "execution_count": null,
      "outputs": [
        {
          "output_type": "stream",
          "name": "stdout",
          "text": [
            "2050\n",
            "2025 is 25 years after 2025\n"
          ]
        }
      ]
    },
    {
      "cell_type": "code",
      "source": [
        "# You can do math in python!\n",
        "\n",
        "print(\"Add\")\n",
        "my_number = 5 + 5\n",
        "print(my_number)\n",
        "\n",
        "print(\"Subtract\")\n",
        "my_number = 5 - 5\n",
        "print(my_number)\n",
        "\n",
        "print(\"Multiply\")\n",
        "my_number = 5 * 5\n",
        "print(my_number)\n",
        "\n",
        "print(\"Divide\")\n",
        "my_number = 7 / 2\n",
        "print(my_number)\n",
        "\n",
        "# There are even more advanced kinds of math, like integer division\n",
        "# This removes any decimals from division\n",
        "print(\"Integer division\")\n",
        "my_number = 7 // 2\n",
        "print(my_number)\n",
        "\n",
        "# You can also get the remainder of a division\n",
        "print(\"Modulo\")\n",
        "my_number = 7 % 2\n",
        "print(my_number)\n",
        "\n",
        "# You can do exponents as well\n",
        "print(\"Exponent\")\n",
        "my_number = 2 ** 3\n",
        "print(my_number)"
      ],
      "metadata": {
        "colab": {
          "base_uri": "https://localhost:8080/"
        },
        "id": "wqLwF2as_TgF",
        "outputId": "1d1e7323-b93d-4a5a-c474-f49ad16f897c"
      },
      "execution_count": null,
      "outputs": [
        {
          "output_type": "stream",
          "name": "stdout",
          "text": [
            "Add\n",
            "10\n",
            "Subtract\n",
            "0\n",
            "Multiply\n",
            "25\n",
            "Divide\n",
            "3.5\n",
            "Integer division\n",
            "3\n",
            "Modulo\n",
            "1\n",
            "Exponent\n",
            "8\n"
          ]
        }
      ]
    },
    {
      "cell_type": "code",
      "source": [
        "# Functions can be written by typing out the \"def\" keyword. A function is a self-contained reuseable chunk of logic.\n",
        "# For example:\n",
        "\n",
        "def print_hi_two_times():\n",
        "  print(\"hi\")\n",
        "  print(\"hi\")\n",
        "\n",
        "print_hi_two_times()\n",
        "print_hi_two_times()\n",
        "\n",
        "# You can also create functions where you pass parameters to them, like so:\n",
        "def print_some_word(my_word):\n",
        "  print(my_word)\n",
        "\n",
        "print_some_word(\"hello\")\n",
        "print_some_word(\"miss you mom\")\n",
        "\n",
        "def add_six(my_number):\n",
        "  print(my_number + 6)\n",
        "\n",
        "add_six(10)\n",
        "\n",
        "def add_together(my_first_number, my_second_number):\n",
        "  print(my_first_number + my_second_number)\n",
        "\n",
        "add_together(10, 20)"
      ],
      "metadata": {
        "colab": {
          "base_uri": "https://localhost:8080/"
        },
        "id": "5tXnXmjT4c_6",
        "outputId": "e6a309d0-ac0c-4fde-ce47-c474749da909"
      },
      "execution_count": null,
      "outputs": [
        {
          "output_type": "stream",
          "name": "stdout",
          "text": [
            "hi\n",
            "hi\n",
            "hi\n",
            "hi\n",
            "hello\n",
            "miss you mom\n"
          ]
        }
      ]
    },
    {
      "cell_type": "code",
      "source": [
        "# In python, you can have if/else statements, known as \"conditionals\"\n",
        "if 7 > 5:\n",
        "  print(\"7 is bigger than 5!\")\n",
        "else:\n",
        "  print(\"5 is bigger than 7!\")"
      ],
      "metadata": {
        "colab": {
          "base_uri": "https://localhost:8080/"
        },
        "id": "srbioGtQ5yR6",
        "outputId": "831da91d-002a-475a-d5ee-b0975e5e05cf"
      },
      "execution_count": null,
      "outputs": [
        {
          "output_type": "stream",
          "name": "stdout",
          "text": [
            "7 is bigger than 5!\n"
          ]
        }
      ]
    },
    {
      "cell_type": "code",
      "source": [
        "# Let's say we wanted to print \"hi\" 1,000 times. It would be very tedious to write:\n",
        "\n",
        "# print(\"hi\")\n",
        "# print(\"hi\")\n",
        "# print(\"hi\")\n",
        "# ...\n",
        "\n",
        "# 1,000 times. Is there a better way? There sure is! In python, we can do repetitive tasks with something called \"loops\"\n",
        "\n",
        "# The while loop\n",
        "my_number = 0\n",
        "while(my_number < 3):\n",
        "  print(\"My number is \" + str(my_number))\n",
        "  my_number = my_number + 1\n",
        "print(\"Done!\")\n",
        "\n",
        "# The for-range loop\n",
        "for index in range(3):\n",
        "  print(\"My number is \" + str(index))\n",
        "print(\"Done!\")\n",
        "\n",
        "# The for-each loop\n",
        "my_list = [0, 1, 2]\n",
        "for element in my_list:\n",
        "  print(\"My number is \" + str(element))\n",
        "print(\"Done!\")"
      ],
      "metadata": {
        "colab": {
          "base_uri": "https://localhost:8080/"
        },
        "id": "Tq5VtouV6JDO",
        "outputId": "0c363235-34b9-4dbc-8d66-6298bd8a3bac"
      },
      "execution_count": null,
      "outputs": [
        {
          "output_type": "stream",
          "name": "stdout",
          "text": [
            "My number is 0\n",
            "My number is 1\n",
            "My number is 2\n",
            "Done!\n",
            "My number is 0\n",
            "My number is 1\n",
            "My number is 2\n",
            "Done!\n",
            "My number is 0\n",
            "My number is 1\n",
            "My number is 2\n",
            "Done!\n"
          ]
        }
      ]
    },
    {
      "cell_type": "code",
      "source": [
        "# Well... What next? Try using the AI tool to generate some code!"
      ],
      "metadata": {
        "id": "Uq0ckuyX7i--"
      },
      "execution_count": null,
      "outputs": []
    },
    {
      "cell_type": "markdown",
      "source": [
        "# What year function - workshop\n",
        "Here is your final project, make a function that takes 2 inputs, the first is a year, and the second is a number of days.\n",
        "The function should print out either:\n",
        "\n",
        "```\n",
        "Y days after Jan 1st, X, it will still be the year X\n",
        "```\n",
        "or\n",
        "```\n",
        "Y days after Jan 1st, X, it will be the year Z\n",
        "```\n",
        "Where:\n",
        "- `X` is the starting year, the first input  to the function\n",
        "- `Y` is the number of days, the second input to the function\n",
        "- `Z` is the year after the X number of days\n",
        "\n",
        "# Examples\n",
        "\n",
        "The function invocations will look like this:\n",
        "```python\n",
        "what_year(1985, 376)\n",
        "```\n",
        "Which should print:\n",
        "```\n",
        "376 days after Jan 1st, 1985, it will be the year 1986\n",
        "```\n",
        "\n",
        "Or\n",
        "```python\n",
        "what_year(1985, 200)\n",
        "```\n",
        "Which should print:\n",
        "```\n",
        "200 days after Jan 1st, 1985, it will still be the year 1985\n",
        "```\n",
        "\n",
        "Or\n",
        "```python\n",
        "what_year(1985, 1098)\n",
        "```\n",
        "Which should print:\n",
        "```\n",
        "1098 days after Jan 1st, 1985, it will be the year 1988\n",
        "```\n",
        "\n",
        "Notice how \"still\" is added to the second sentance, but not the first!\n",
        "\n",
        "# Assumptions\n",
        "\n",
        "1. Assume a year is 365 days (but, if you're off by a day or two, that's ok)\n",
        "2. Don't worry about leap years\n",
        "3. Don't use the datetime package!"
      ],
      "metadata": {
        "id": "yeqYGPSZ9hUa"
      }
    },
    {
      "cell_type": "code",
      "source": [
        "# Example solution\n",
        "\n",
        "def what_year(start_year, days):\n",
        "    # Calculate how many years have passed (integer division)\n",
        "    years_passed = days // 365\n",
        "    target_year = start_year + years_passed\n",
        "\n",
        "    # Technically we might be off by a day... but we are going to ignore that\n",
        "    if years_passed > 0:\n",
        "        print(f\"{days} days after Jan 1st, {start_year}, it will be the year {target_year}\")\n",
        "    else:\n",
        "        print(f\"{days} days after Jan 1st, {start_year}, it will still be the year {target_year}\")\n",
        "\n",
        "what_year(1985, 376)\n",
        "what_year(1985, 200)\n",
        "what_year(1985, 1098)\n"
      ],
      "metadata": {
        "colab": {
          "base_uri": "https://localhost:8080/"
        },
        "id": "GyRCauDS8V0V",
        "outputId": "ccfe8e6c-e527-44d9-afa5-b39c94d00261"
      },
      "execution_count": null,
      "outputs": [
        {
          "output_type": "stream",
          "name": "stdout",
          "text": [
            "376 days after Jan 1st, 1985, it will be the year 1986\n",
            "200 days after Jan 1st, 1985, it will still be the year 1985\n",
            "1098 days after Jan 1st, 1985, it will be the year 1988\n"
          ]
        }
      ]
    }
  ]
}